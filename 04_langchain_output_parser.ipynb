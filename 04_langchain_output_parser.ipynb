{
 "cells": [
  {
   "cell_type": "markdown",
   "metadata": {},
   "source": [
    "## api 키 로딩, llm 객체 생성"
   ]
  },
  {
   "cell_type": "code",
   "execution_count": 1,
   "metadata": {},
   "outputs": [],
   "source": [
    "from dotenv import load_dotenv\n",
    "import os\n",
    "\n",
    "load_dotenv()\n",
    "api_key = os.environ[\"OPENAI_API_KEY\"]\n",
    "\n",
    "from langchain_openai import ChatOpenAI\n",
    "\n",
    "# llm = ChatOpenAI(model=\"gpt-4o\", api_key=api_key)\n",
    "llm = ChatOpenAI(model=\"gpt-3.5-turbo-0125\", api_key=api_key)"
   ]
  },
  {
   "cell_type": "code",
   "execution_count": 2,
   "metadata": {},
   "outputs": [],
   "source": [
    "from langchain_core.output_parsers import JsonOutputParser\n",
    "from langchain_core.prompts import PromptTemplate\n",
    "from pydantic import BaseModel, Field"
   ]
  },
  {
   "cell_type": "code",
   "execution_count": 3,
   "metadata": {},
   "outputs": [],
   "source": [
    "class EmailParser(BaseModel):\n",
    "    sender_name: str = Field(description=\"이메일 송신자명\")\n",
    "    title: str = Field(description=\"이메일 제목\")\n",
    "    content: str = Field(description=\"이메일 내용\")"
   ]
  },
  {
   "cell_type": "code",
   "execution_count": 4,
   "metadata": {},
   "outputs": [
    {
     "data": {
      "text/plain": [
       "JsonOutputParser(pydantic_object=<class '__main__.EmailParser'>)"
      ]
     },
     "execution_count": 4,
     "metadata": {},
     "output_type": "execute_result"
    }
   ],
   "source": [
    "parser = JsonOutputParser(pydantic_object=EmailParser)\n",
    "parser"
   ]
  },
  {
   "cell_type": "code",
   "execution_count": 5,
   "metadata": {},
   "outputs": [
    {
     "name": "stdout",
     "output_type": "stream",
     "text": [
      "The output should be formatted as a JSON instance that conforms to the JSON schema below.\n",
      "\n",
      "As an example, for the schema {\"properties\": {\"foo\": {\"title\": \"Foo\", \"description\": \"a list of strings\", \"type\": \"array\", \"items\": {\"type\": \"string\"}}}, \"required\": [\"foo\"]}\n",
      "the object {\"foo\": [\"bar\", \"baz\"]} is a well-formatted instance of the schema. The object {\"properties\": {\"foo\": [\"bar\", \"baz\"]}} is not well-formatted.\n",
      "\n",
      "Here is the output schema:\n",
      "```\n",
      "{\"properties\": {\"sender_name\": {\"description\": \"\\uc774\\uba54\\uc77c \\uc1a1\\uc2e0\\uc790\\uba85\", \"title\": \"Sender Name\", \"type\": \"string\"}, \"title\": {\"description\": \"\\uc774\\uba54\\uc77c \\uc81c\\ubaa9\", \"title\": \"Title\", \"type\": \"string\"}, \"content\": {\"description\": \"\\uc774\\uba54\\uc77c \\ub0b4\\uc6a9\", \"title\": \"Content\", \"type\": \"string\"}}, \"required\": [\"sender_name\", \"title\", \"content\"]}\n",
      "```\n"
     ]
    }
   ],
   "source": [
    "print(parser.get_format_instructions())"
   ]
  },
  {
   "cell_type": "code",
   "execution_count": 6,
   "metadata": {},
   "outputs": [
    {
     "data": {
      "text/plain": [
       "PromptTemplate(input_variables=['email'], input_types={}, partial_variables={'format_instructions': 'The output should be formatted as a JSON instance that conforms to the JSON schema below.\\n\\nAs an example, for the schema {\"properties\": {\"foo\": {\"title\": \"Foo\", \"description\": \"a list of strings\", \"type\": \"array\", \"items\": {\"type\": \"string\"}}}, \"required\": [\"foo\"]}\\nthe object {\"foo\": [\"bar\", \"baz\"]} is a well-formatted instance of the schema. The object {\"properties\": {\"foo\": [\"bar\", \"baz\"]}} is not well-formatted.\\n\\nHere is the output schema:\\n```\\n{\"properties\": {\"sender_name\": {\"description\": \"\\\\uc774\\\\uba54\\\\uc77c \\\\uc1a1\\\\uc2e0\\\\uc790\\\\uba85\", \"title\": \"Sender Name\", \"type\": \"string\"}, \"title\": {\"description\": \"\\\\uc774\\\\uba54\\\\uc77c \\\\uc81c\\\\ubaa9\", \"title\": \"Title\", \"type\": \"string\"}, \"content\": {\"description\": \"\\\\uc774\\\\uba54\\\\uc77c \\\\ub0b4\\\\uc6a9\", \"title\": \"Content\", \"type\": \"string\"}}, \"required\": [\"sender_name\", \"title\", \"content\"]}\\n```'}, template='이메일을 읽고 요약해 주세요.\\n{format_instructions}\\n{email}\\n')"
      ]
     },
     "execution_count": 6,
     "metadata": {},
     "output_type": "execute_result"
    }
   ],
   "source": [
    "prompt_template = PromptTemplate(\n",
    "    template=\"이메일을 읽고 요약해 주세요.\\n{format_instructions}\\n{email}\\n\",\n",
    "    input_variables=[\"email\"],\n",
    "    partial_variables={\"format_instructions\": parser.get_format_instructions()},\n",
    ")\n",
    "prompt_template"
   ]
  },
  {
   "cell_type": "code",
   "execution_count": 7,
   "metadata": {},
   "outputs": [
    {
     "name": "stdout",
     "output_type": "stream",
     "text": [
      "이메일을 읽고 요약해 주세요.\n",
      "The output should be formatted as a JSON instance that conforms to the JSON schema below.\n",
      "\n",
      "As an example, for the schema {\"properties\": {\"foo\": {\"title\": \"Foo\", \"description\": \"a list of strings\", \"type\": \"array\", \"items\": {\"type\": \"string\"}}}, \"required\": [\"foo\"]}\n",
      "the object {\"foo\": [\"bar\", \"baz\"]} is a well-formatted instance of the schema. The object {\"properties\": {\"foo\": [\"bar\", \"baz\"]}} is not well-formatted.\n",
      "\n",
      "Here is the output schema:\n",
      "```\n",
      "{\"properties\": {\"sender_name\": {\"description\": \"\\uc774\\uba54\\uc77c \\uc1a1\\uc2e0\\uc790\\uba85\", \"title\": \"Sender Name\", \"type\": \"string\"}, \"title\": {\"description\": \"\\uc774\\uba54\\uc77c \\uc81c\\ubaa9\", \"title\": \"Title\", \"type\": \"string\"}, \"content\": {\"description\": \"\\uc774\\uba54\\uc77c \\ub0b4\\uc6a9\", \"title\": \"Content\", \"type\": \"string\"}}, \"required\": [\"sender_name\", \"title\", \"content\"]}\n",
      "```\n",
      "보내는 사람: 김철수\n",
      "제목: 오늘의 회의록\n",
      "내용: 오늘 회의록을 보내드립니다. 내용은 첨부파일을 확인해 주세요.\n",
      "\n"
     ]
    }
   ],
   "source": [
    "prompt = prompt_template.format(email=\"보내는 사람: 김철수\\n제목: 오늘의 회의록\\n내용: 오늘 회의록을 보내드립니다. 내용은 첨부파일을 확인해 주세요.\")\n",
    "print(prompt)"
   ]
  },
  {
   "cell_type": "code",
   "execution_count": 8,
   "metadata": {},
   "outputs": [
    {
     "name": "stdout",
     "output_type": "stream",
     "text": [
      "{'sender_name': '김철수', 'title': '오늘의 회의록', 'content': '오늘 회의록을 보내드립니다. 내용은 첨부파일을 확인해 주세요.'}\n"
     ]
    }
   ],
   "source": [
    "# llm에 prompt 보내기\n",
    "response = llm.invoke(prompt)\n",
    "\n",
    "# 응답 받은 결과를 parser로 파싱하기\n",
    "parsed_output = parser.invoke(response)\n",
    "print(parsed_output)"
   ]
  },
  {
   "cell_type": "markdown",
   "metadata": {},
   "source": [
    "### LCEL로 실행하기\n",
    "- LCEL(LangChain Expression Language)"
   ]
  },
  {
   "cell_type": "code",
   "execution_count": 9,
   "metadata": {},
   "outputs": [],
   "source": [
    "# chain = 프롬프트템플릿 | llm_모델 | 파서 \n",
    "# chain.invoke({\"변수\": \"질문\"})\n",
    "chain = prompt_template | llm | parser\n",
    "email = \"보내는 사람: 김철수\\n제목: 오늘의 회의록\\n내용: 오늘 회의록을 보내드립니다. 내용은 첨부파일을 확인해 주세요.\"\n",
    "response = chain.invoke({\"email\":email})\n"
   ]
  },
  {
   "cell_type": "code",
   "execution_count": 10,
   "metadata": {},
   "outputs": [
    {
     "data": {
      "text/plain": [
       "{'sender_name': '김철수',\n",
       " 'title': '오늘의 회의록',\n",
       " 'content': '오늘 회의록을 보내드립니다. 내용은 첨부파일을 확인해 주세요.'}"
      ]
     },
     "execution_count": 10,
     "metadata": {},
     "output_type": "execute_result"
    }
   ],
   "source": [
    "response"
   ]
  },
  {
   "cell_type": "code",
   "execution_count": null,
   "metadata": {},
   "outputs": [],
   "source": []
  }
 ],
 "metadata": {
  "kernelspec": {
   "display_name": "langchain_rag_env",
   "language": "python",
   "name": "python3"
  },
  "language_info": {
   "codemirror_mode": {
    "name": "ipython",
    "version": 3
   },
   "file_extension": ".py",
   "mimetype": "text/x-python",
   "name": "python",
   "nbconvert_exporter": "python",
   "pygments_lexer": "ipython3",
   "version": "3.12.7"
  }
 },
 "nbformat": 4,
 "nbformat_minor": 2
}
