{
 "cells": [
  {
   "cell_type": "markdown",
   "metadata": {},
   "source": [
    "# 프롬프트 템플릿 작성"
   ]
  },
  {
   "cell_type": "code",
   "execution_count": 2,
   "metadata": {},
   "outputs": [],
   "source": [
    "from dotenv import load_dotenv\n",
    "import os\n",
    "\n",
    "load_dotenv()\n",
    "api_key = os.environ[\"OPENAI_API_KEY\"]"
   ]
  },
  {
   "cell_type": "code",
   "execution_count": 3,
   "metadata": {},
   "outputs": [
    {
     "data": {
      "text/plain": [
       "ChatOpenAI(client=<openai.resources.chat.completions.Completions object at 0x00000121D5532FC0>, async_client=<openai.resources.chat.completions.AsyncCompletions object at 0x00000121D5574B90>, root_client=<openai.OpenAI object at 0x00000121D51599A0>, root_async_client=<openai.AsyncOpenAI object at 0x00000121D5533020>, model_name='gpt-3.5-turbo-0125', model_kwargs={}, openai_api_key=SecretStr('**********'))"
      ]
     },
     "execution_count": 3,
     "metadata": {},
     "output_type": "execute_result"
    }
   ],
   "source": [
    "from langchain_openai import ChatOpenAI\n",
    "\n",
    "# llm = ChatOpenAI(model=\"gpt-4o\", api_key=api_key)\n",
    "llm = ChatOpenAI(model=\"gpt-3.5-turbo-0125\", api_key=api_key)\n",
    "llm"
   ]
  },
  {
   "cell_type": "markdown",
   "metadata": {},
   "source": [
    "## 템플릿 객체 사용"
   ]
  },
  {
   "cell_type": "code",
   "execution_count": 4,
   "metadata": {},
   "outputs": [],
   "source": [
    "from langchain.prompts import PromptTemplate"
   ]
  },
  {
   "cell_type": "code",
   "execution_count": 5,
   "metadata": {},
   "outputs": [
    {
     "name": "stdout",
     "output_type": "stream",
     "text": [
      "서울에서 가장 유명한 맛집을 알려주세요.\n"
     ]
    }
   ],
   "source": [
    "# template 구성\n",
    "template = PromptTemplate.from_template(\n",
    "    \"{city}에서 {adjective} {topic}을 알려주세요.\")\n",
    "\n",
    "# format으로 템플릿에 값을 대입\n",
    "prompt = template.format(city=\"서울\", \n",
    "                        adjective=\"가장 유명한\",\n",
    "                        topic=\"맛집\"\n",
    "                         )\n",
    "print(prompt)"
   ]
  },
  {
   "cell_type": "code",
   "execution_count": 6,
   "metadata": {},
   "outputs": [],
   "source": [
    "# llm에 질문 요청\n",
    "response = llm.invoke(prompt)"
   ]
  },
  {
   "cell_type": "code",
   "execution_count": 7,
   "metadata": {},
   "outputs": [
    {
     "data": {
      "text/plain": [
       "AIMessage(content=\"서울에서 가장 유명한 맛집 중 하나는 홍대 빵집인 '미스터붕어빵'입니다. 이곳은 신선한 재료로 만든 붕어빵과 다양한 종류의 디저트를 판매하며 매일 많은 사람들이 방문하는 인기 맛집입니다. 또한 '이태원 낙지'라는 낙지 전문점도 서울에서 유명하며 맛있는 낙지 요리로 손님들의 입맛을 사로잡고 있습니다. 이외에도 강남의 '한우마당'이나 종로의 '통영집' 등 다양한 맛집들이 있으니 찾아보시면 많은 만족을 느낄 수 있을 것입니다.\", additional_kwargs={'refusal': None}, response_metadata={'token_usage': {'completion_tokens': 234, 'prompt_tokens': 28, 'total_tokens': 262, 'completion_tokens_details': {'audio_tokens': None, 'reasoning_tokens': 0}, 'prompt_tokens_details': {'audio_tokens': None, 'cached_tokens': 0}}, 'model_name': 'gpt-3.5-turbo-0125', 'system_fingerprint': None, 'finish_reason': 'stop', 'logprobs': None}, id='run-0bb9b661-4341-4126-b84b-8cfe8399ef96-0', usage_metadata={'input_tokens': 28, 'output_tokens': 234, 'total_tokens': 262, 'input_token_details': {'cache_read': 0}, 'output_token_details': {'reasoning': 0}})"
      ]
     },
     "execution_count": 7,
     "metadata": {},
     "output_type": "execute_result"
    }
   ],
   "source": [
    "response"
   ]
  },
  {
   "cell_type": "code",
   "execution_count": 8,
   "metadata": {},
   "outputs": [
    {
     "name": "stdout",
     "output_type": "stream",
     "text": [
      "서울에서 가장 유명한 맛집 중 하나는 홍대 빵집인 '미스터붕어빵'입니다. 이곳은 신선한 재료로 만든 붕어빵과 다양한 종류의 디저트를 판매하며 매일 많은 사람들이 방문하는 인기 맛집입니다. 또한 '이태원 낙지'라는 낙지 전문점도 서울에서 유명하며 맛있는 낙지 요리로 손님들의 입맛을 사로잡고 있습니다. 이외에도 강남의 '한우마당'이나 종로의 '통영집' 등 다양한 맛집들이 있으니 찾아보시면 많은 만족을 느낄 수 있을 것입니다.\n"
     ]
    }
   ],
   "source": [
    "print(response.content)"
   ]
  },
  {
   "cell_type": "code",
   "execution_count": 9,
   "metadata": {},
   "outputs": [],
   "source": [
    "template.save(\"template.json\")"
   ]
  },
  {
   "cell_type": "markdown",
   "metadata": {},
   "source": [
    "## Chat Prompt Template"
   ]
  },
  {
   "cell_type": "code",
   "execution_count": 10,
   "metadata": {},
   "outputs": [
    {
     "name": "stdout",
     "output_type": "stream",
     "text": [
      "[SystemMessage(content='당신은 베테랑 여행 가이드로, 고객 최적의 맞춤 여행 일정 수립을 도와줍니다.', additional_kwargs={}, response_metadata={}), HumanMessage(content='여름에 동남아로 가족여행을 계획하고 있습니다.', additional_kwargs={}, response_metadata={}), AIMessage(content='제가 바로 동남아 전문 여행 가이드입니다. 어떤 도움이 필요하신가요?', additional_kwargs={}, response_metadata={}), HumanMessage(content='해당 지역의 여행지 5군데를 추천해 주세요', additional_kwargs={}, response_metadata={})]\n"
     ]
    }
   ],
   "source": [
    "from langchain_openai import ChatOpenAI\n",
    "from langchain.prompts import ChatPromptTemplate\n",
    "\n",
    "llm = ChatOpenAI(model=\"gpt-3.5-turbo-0125\", api_key=api_key)\n",
    "chat_template = ChatPromptTemplate.from_messages([\n",
    "    (\"system\", \"당신은 베테랑 여행 가이드로, 고객 최적의 맞춤 여행 일정 수립을 도와줍니다.\"),\n",
    "    (\"human\", \"{when}에 {place}로 {travel}을 계획하고 있습니다.\"),\n",
    "    (\"ai\", \"제가 바로 {place} 전문 여행 가이드입니다. 어떤 도움이 필요하신가요?\"),\n",
    "    (\"human\", \"{question}\")\n",
    "])\n",
    "\n",
    "prompt = chat_template.format_messages(\n",
    "\t\t\twhen=\"여름\", \n",
    "\t\t\tplace=\"동남아\", \n",
    "\t\t\ttravel=\"가족여행\", \n",
    "\t\t\tquestion=\"해당 지역의 여행지 5군데를 추천해 주세요\")   \n",
    "print(prompt)"
   ]
  },
  {
   "cell_type": "code",
   "execution_count": 11,
   "metadata": {},
   "outputs": [],
   "source": [
    "response = llm.invoke(prompt)"
   ]
  },
  {
   "cell_type": "code",
   "execution_count": 12,
   "metadata": {},
   "outputs": [
    {
     "name": "stdout",
     "output_type": "stream",
     "text": [
      "동남아시아에는 매력적인 여행지가 많이 있지만, 가족 여행을 고려한다면 아래 5곳을 추천해 드립니다.\n",
      "\n",
      "1. 태국 방콕: 태국의 수도인 방콕은 다채로운 문화와 역사, 맛있는 음식, 신비로운 사원들로 유명합니다. 가족 모두가 즐길 수 있는 관광 명소와 쇼핑지가 많이 있어요.\n",
      "\n",
      "2. 말레이시아 랑카위: 랑카위는 아름다운 해변과 자연 경치로 유명한 말레이시아의 섬입니다. 가족과 함께 수상 스포츠를 즐기거나 자연을 만끽할 수 있는 곳이에요.\n",
      "\n",
      "3. 인도네시아 발리: 발리는 아름다운 해변과 문화적 명소로 유명한 인도네시아의 섬입니다. 가족 모두가 즐길 수 있는 수영, 서핑, 스파 등 다양한 활동이 가능합니다.\n",
      "\n",
      "4. 싱가포르: 싱가포르는 안전하고 깨끗한 도시로 유명하며, 쇼핑, 먹거리, 문화체험 등 다양한 즐길 거리가 있습니다. 가족 모두가 만족할 수 있는 여행지입니다.\n",
      "\n",
      "5. 필리핀 세부: 세부는 아름다운 해변과 다이빙 스포트로 유명한 필리핀의 도시입니다. 가족과 함께 해변에서 즐기거나 세부 주변의 섬들을 탐험할 수 있어요.\n",
      "\n",
      "이렇게 다채로운 경험을 제공하는 동남아 여행지 중 하나를 선택해보세요. 원하시는 곳이 있으시면 더 자세한 정보를 제공해 드릴게요.\n"
     ]
    }
   ],
   "source": [
    "print(response.content)"
   ]
  },
  {
   "cell_type": "markdown",
   "metadata": {},
   "source": [
    "- prompt pipeline 구성 방법"
   ]
  },
  {
   "cell_type": "code",
   "execution_count": 13,
   "metadata": {},
   "outputs": [
    {
     "data": {
      "text/plain": [
       "PromptTemplate(input_variables=['prompt_1', 'prompt_2'], input_types={}, partial_variables={}, template='{prompt_1}\\n{prompt_2}\\n')"
      ]
     },
     "execution_count": 13,
     "metadata": {},
     "output_type": "execute_result"
    }
   ],
   "source": [
    "from langchain.prompts.pipeline import PipelinePromptTemplate\n",
    "final_template = \"\"\"{prompt_1}\n",
    "{prompt_2}\n",
    "\"\"\"\n",
    "\n",
    "final_prompt = PromptTemplate.from_template(final_template)\n",
    "final_prompt\n"
   ]
  },
  {
   "cell_type": "code",
   "execution_count": 14,
   "metadata": {},
   "outputs": [],
   "source": [
    "prompt_1 = PromptTemplate.from_template(\"당신은 {place} 베테랑 여행 가이드입니다. \")\n",
    "prompt_2 = PromptTemplate.from_template(\"고객 최적의 {place} {travel} 일정 수립을 도와줍니다.\")"
   ]
  },
  {
   "cell_type": "code",
   "execution_count": 16,
   "metadata": {},
   "outputs": [
    {
     "data": {
      "text/plain": [
       "PromptTemplate(input_variables=['place', 'travel'], input_types={}, partial_variables={}, template='고객 최적의 {place} {travel} 일정 수립을 도와줍니다.')"
      ]
     },
     "execution_count": 16,
     "metadata": {},
     "output_type": "execute_result"
    }
   ],
   "source": [
    "prompt_2"
   ]
  },
  {
   "cell_type": "code",
   "execution_count": 17,
   "metadata": {},
   "outputs": [
    {
     "data": {
      "text/plain": [
       "[('prompt_1',\n",
       "  PromptTemplate(input_variables=['place'], input_types={}, partial_variables={}, template='당신은 {place} 베테랑 여행 가이드입니다. ')),\n",
       " ('prompt_2',\n",
       "  PromptTemplate(input_variables=['place', 'travel'], input_types={}, partial_variables={}, template='고객 최적의 {place} {travel} 일정 수립을 도와줍니다.'))]"
      ]
     },
     "execution_count": 17,
     "metadata": {},
     "output_type": "execute_result"
    }
   ],
   "source": [
    "pipeline_prompts = [\n",
    "    (\"prompt_1\", prompt_1),\n",
    "    (\"prompt_2\", prompt_2)\n",
    "]\n",
    "pipeline_prompts"
   ]
  },
  {
   "cell_type": "markdown",
   "metadata": {},
   "source": [
    "### 부분 프롬프트"
   ]
  },
  {
   "cell_type": "code",
   "execution_count": 25,
   "metadata": {},
   "outputs": [
    {
     "name": "stdout",
     "output_type": "stream",
     "text": [
      "서울에서 유명한 한정식집을 알려주세요.\n",
      "부산에서 유명한 해운대을 알려주세요.\n"
     ]
    }
   ],
   "source": [
    "# 기본 템플릿 정의\n",
    "prompt = PromptTemplate(template=\"{city}에서 유명한 {place}을 알려주세요.\", \n",
    "                        input_variables=[\"place\"],          # 사용자 입력이 필요한 변수\n",
    "                        partial_variables={\"city\": \"서울\"})  # 초기값 입력\n",
    "\n",
    "# input_variables 값 입력                        \n",
    "print(prompt.format(place=\"한정식집\"))\n",
    "\n",
    "# partial_variables 값 변경\n",
    "partial_prompt = prompt.partial(city=\"부산\")\n",
    "\n",
    "# input_variables 값 입력\n",
    "print(partial_prompt.format(place=\"해운대\"))\n"
   ]
  },
  {
   "cell_type": "markdown",
   "metadata": {},
   "source": [
    "## 프롬프트로 질문하기 \n",
    "### 방법1"
   ]
  },
  {
   "cell_type": "code",
   "execution_count": 20,
   "metadata": {},
   "outputs": [],
   "source": [
    "prpt = partial_prompt.format(place=\"해운대\")\n",
    "response = llm.invoke(p)"
   ]
  },
  {
   "cell_type": "code",
   "execution_count": 22,
   "metadata": {},
   "outputs": [
    {
     "data": {
      "text/plain": [
       "'부산의 대표적인 관광 명소인 해운대는 한국에서 가장 유명한 해변 중 하나입니다. 길이가 약 1.5km에 이르는 백사장과 아름다운 일몰을 감상할 수 있는 해운대해수욕장은 매년 많은 관광객들이 찾는 곳입니다. 또한 해운대 근처에는 해운대 마린시티, 동백섬, 해운대 소망공원, 동래시장 등 다양한 관광 명소와 맛집들이 있어 방문객에게 다양한 즐길 거리를 제공합니다.'"
      ]
     },
     "execution_count": 22,
     "metadata": {},
     "output_type": "execute_result"
    }
   ],
   "source": [
    "response.content"
   ]
  },
  {
   "cell_type": "markdown",
   "metadata": {},
   "source": [
    "### 방법2"
   ]
  },
  {
   "cell_type": "code",
   "execution_count": 34,
   "metadata": {},
   "outputs": [],
   "source": [
    "from langchain_core.output_parsers import StrOutputParser\n",
    "chain = partial_prompt | llm | StrOutputParser()"
   ]
  },
  {
   "cell_type": "code",
   "execution_count": 35,
   "metadata": {},
   "outputs": [
    {
     "data": {
      "text/plain": [
       "PromptTemplate(input_variables=['place'], input_types={}, partial_variables={'city': '부산'}, template='{city}에서 유명한 {place}을 알려주세요.')\n",
       "| ChatOpenAI(client=<openai.resources.chat.completions.Completions object at 0x00000121F59DC1D0>, async_client=<openai.resources.chat.completions.AsyncCompletions object at 0x00000121F59DC830>, root_client=<openai.OpenAI object at 0x00000121F59BDF10>, root_async_client=<openai.AsyncOpenAI object at 0x00000121F5B43860>, model_name='gpt-3.5-turbo-0125', model_kwargs={}, openai_api_key=SecretStr('**********'))\n",
       "| StrOutputParser()"
      ]
     },
     "execution_count": 35,
     "metadata": {},
     "output_type": "execute_result"
    }
   ],
   "source": [
    "chain"
   ]
  },
  {
   "cell_type": "code",
   "execution_count": 36,
   "metadata": {},
   "outputs": [],
   "source": [
    "response = chain.invoke({\"place\":\"해운대\"})  # place=\"해운대\""
   ]
  },
  {
   "cell_type": "code",
   "execution_count": 37,
   "metadata": {},
   "outputs": [
    {
     "data": {
      "text/plain": [
       "'부산의 대표 관광지인 해운대는 부산광역시 해운대구 해운대해수욕장을 말합니다. 해운대해수욕장은 국내 최대 규모의 백사장을 자랑하며, 맑은 바다와 깨끗한 모래사장이 아름다운 해변입니다. 또한 주변에는 해운대 마린시티, 동백섬, 해운대 시장 등 다양한 관광 명소와 먹거리가 있어 많은 관광객들이 찾는 곳입니다. 특히 여름에는 해수욕을 즐기기 위해 수많은 사람들이 모여들며, 해운대 광안리 해수욕장은 국내외 관광객들로 붐볐던 곳 중 하나입니다.'"
      ]
     },
     "execution_count": 37,
     "metadata": {},
     "output_type": "execute_result"
    }
   ],
   "source": [
    "# response.content\n",
    "response"
   ]
  },
  {
   "cell_type": "code",
   "execution_count": null,
   "metadata": {},
   "outputs": [],
   "source": []
  }
 ],
 "metadata": {
  "kernelspec": {
   "display_name": "langchain_rag_env",
   "language": "python",
   "name": "python3"
  },
  "language_info": {
   "codemirror_mode": {
    "name": "ipython",
    "version": 3
   },
   "file_extension": ".py",
   "mimetype": "text/x-python",
   "name": "python",
   "nbconvert_exporter": "python",
   "pygments_lexer": "ipython3",
   "version": "3.12.7"
  }
 },
 "nbformat": 4,
 "nbformat_minor": 2
}
