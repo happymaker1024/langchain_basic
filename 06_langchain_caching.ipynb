{
 "cells": [
  {
   "cell_type": "code",
   "execution_count": 2,
   "metadata": {},
   "outputs": [],
   "source": [
    "from dotenv import load_dotenv\n",
    "import os\n",
    "# .env에 정의한 환경변수를 메모리에 로딩\n",
    "load_dotenv()\n",
    "\n",
    "# OPENAI_API_KEY 값을 변수에 대입\n",
    "api_key = os.environ[\"OPENAI_API_KEY\"]"
   ]
  },
  {
   "cell_type": "code",
   "execution_count": 16,
   "metadata": {},
   "outputs": [],
   "source": [
    "# Redis 환경 설정 값 변수에 대입\n",
    "\n",
    "host= os.environ[\"host\"]\n",
    "port= int(os.environ[\"port\"])\n",
    "password= os.environ[\"password\"]\n",
    "\n",
    "# print(host)\n",
    "# print(port)\n",
    "# print(password)"
   ]
  },
  {
   "cell_type": "code",
   "execution_count": 9,
   "metadata": {},
   "outputs": [
    {
     "data": {
      "text/plain": [
       "ChatOpenAI(client=<openai.resources.chat.completions.Completions object at 0x000002973055A720>, async_client=<openai.resources.chat.completions.AsyncCompletions object at 0x000002973055BC20>, root_client=<openai.OpenAI object at 0x00000297300C2C30>, root_async_client=<openai.AsyncOpenAI object at 0x000002973055A750>, model_name='gpt-3.5-turbo-0125', model_kwargs={}, openai_api_key=SecretStr('**********'))"
      ]
     },
     "execution_count": 9,
     "metadata": {},
     "output_type": "execute_result"
    }
   ],
   "source": [
    "from langchain_openai import ChatOpenAI\n",
    "\n",
    "llm = ChatOpenAI(model=\"gpt-3.5-turbo-0125\", api_key=api_key)\n",
    "llm"
   ]
  },
  {
   "cell_type": "markdown",
   "metadata": {},
   "source": [
    "### caching\n"
   ]
  },
  {
   "cell_type": "markdown",
   "metadata": {},
   "source": [
    "- https://python.langchain.com/docs/how_to/llm_caching/\n",
    "- https://python.langchain.com/api_reference/core/caches/langchain_core.caches.InMemoryCache.html\n"
   ]
  },
  {
   "cell_type": "code",
   "execution_count": 22,
   "metadata": {},
   "outputs": [],
   "source": [
    "from langchain_core.globals import set_llm_cache\n",
    "from langchain_core.caches import InMemoryCache\n",
    "from langchain_core.messages import HumanMessage\n",
    "\n",
    "set_llm_cache(InMemoryCache())\n",
    "\n",
    "llm = ChatOpenAI(model=\"gpt-3.5-turbo-0125\")\n",
    "\n",
    "message = [HumanMessage(content=\"서울 광장시장에서 가장 맛있는 길거리 음식은 무엇인가요?\")]"
   ]
  },
  {
   "cell_type": "code",
   "execution_count": 23,
   "metadata": {},
   "outputs": [
    {
     "name": "stdout",
     "output_type": "stream",
     "text": [
      "서울 광장시장에서 가장 맛있는 길거리 음식으로는 떡볶이나 김밥, 붕어빵, 어묵탕 등 다양한 종류의 음식을 즐길 수 있습니다. 특히 떡볶이와 어묵탕은 광장시장을 방문한 관광객들 사이에서 인기 있는 메뉴로 손꼽힙니다. 매콤하고 고소한 맛이 일품이라고 할 수 있죠. 광장시장을 방문하면 다양한 길거리 음식을 즐기며 현지의 맛을 경험해보시는 것을 추천드립니다.\n",
      "CPU times: total: 15.6 ms\n",
      "Wall time: 2.6 s\n"
     ]
    }
   ],
   "source": [
    "%%time\n",
    "response = llm.invoke(message)\n",
    "print(response.content)"
   ]
  },
  {
   "cell_type": "code",
   "execution_count": 24,
   "metadata": {},
   "outputs": [
    {
     "name": "stdout",
     "output_type": "stream",
     "text": [
      "서울 광장시장에서 가장 맛있는 길거리 음식으로는 떡볶이나 김밥, 붕어빵, 어묵탕 등 다양한 종류의 음식을 즐길 수 있습니다. 특히 떡볶이와 어묵탕은 광장시장을 방문한 관광객들 사이에서 인기 있는 메뉴로 손꼽힙니다. 매콤하고 고소한 맛이 일품이라고 할 수 있죠. 광장시장을 방문하면 다양한 길거리 음식을 즐기며 현지의 맛을 경험해보시는 것을 추천드립니다.\n",
      "CPU times: total: 0 ns\n",
      "Wall time: 0 ns\n"
     ]
    }
   ],
   "source": [
    "%%time\n",
    "response = llm.invoke(message)\n",
    "print(response.content)"
   ]
  },
  {
   "cell_type": "code",
   "execution_count": 25,
   "metadata": {},
   "outputs": [],
   "source": [
    "set_llm_cache(InMemoryCache())\n",
    "llm_1 = ChatOpenAI(model=\"gpt-3.5-turbo-0125\")\n",
    "\n",
    "llm_2 = ChatOpenAI(model=\"gpt-3.5-turbo-0125\", cache=False)\n",
    "\n",
    "message = [HumanMessage(content=\"서울 광장시장에서 가장 맛있는 길거리 음식은 무엇인가요?\")]"
   ]
  },
  {
   "cell_type": "code",
   "execution_count": 26,
   "metadata": {},
   "outputs": [
    {
     "name": "stdout",
     "output_type": "stream",
     "text": [
      "서울 광장시장에서 가장 맛있는 길거리 음식은 떡볶이나 핫도그, 떡꼬치, 튀김 등이 인기가 많습니다. 특히 떡볶이는 매콤하고 고소한 맛이 일품이라 많은 사람들이 즐겨 먹는 대표적인 길거리 음식입니다. 또한 광장시장에서는 다양한 종류의 음식을 맛볼 수 있어서 많은 이들이 찾는 곳이기도 합니다. 광장시장을 방문하면 다양한 맛과 향을 경험할 수 있으니 여러 음식을 시도해보는 것을 추천드립니다.\n",
      "CPU times: total: 0 ns\n",
      "Wall time: 2.48 s\n"
     ]
    }
   ],
   "source": [
    "%%time\n",
    "response = llm_1.invoke(message)\n",
    "print(response.content)"
   ]
  },
  {
   "cell_type": "code",
   "execution_count": 27,
   "metadata": {},
   "outputs": [
    {
     "name": "stdout",
     "output_type": "stream",
     "text": [
      "서울 광장시장에서 가장 맛있는 길거리 음식으로는 떡볶이, 어묵, 순대, 떡꼬치, 라면 등이 유명합니다. 특히 떡볶이와 어묵은 광장시장에서 먹어보면 그 맛을 잘 느낄 수 있는 대표적인 길거리 음식이라고 할 수 있습니다. 또한 각종 분식류와 디저트도 다양하게 즐길 수 있으니 시장을 방문해보시면 좋을 것 같습니다.\n",
      "CPU times: total: 0 ns\n",
      "Wall time: 1.97 s\n"
     ]
    }
   ],
   "source": [
    "%%time\n",
    "response = llm_2.invoke(message)\n",
    "print(response.content)"
   ]
  },
  {
   "cell_type": "markdown",
   "metadata": {},
   "source": [
    "- https://python.langchain.com/api_reference/community/cache/langchain_community.cache.RedisSemanticCache.html\n"
   ]
  },
  {
   "cell_type": "code",
   "execution_count": 5,
   "metadata": {},
   "outputs": [
    {
     "name": "stdout",
     "output_type": "stream",
     "text": [
      "Note: you may need to restart the kernel to use updated packages.\n"
     ]
    }
   ],
   "source": [
    "%pip -q install redis"
   ]
  },
  {
   "cell_type": "code",
   "execution_count": 17,
   "metadata": {},
   "outputs": [],
   "source": [
    "from redis import Redis\n",
    "\n",
    "redis_db = Redis(\n",
    "  host = host ,\n",
    "  port = port, \n",
    "  password = password)"
   ]
  },
  {
   "cell_type": "code",
   "execution_count": 18,
   "metadata": {},
   "outputs": [],
   "source": [
    "from langchain_core.globals import set_llm_cache\n",
    "from langchain_community.cache import RedisCache\n",
    "from langchain_openai import ChatOpenAI\n",
    "from langchain_core.messages import HumanMessage\n",
    "\n",
    "\n",
    "# radis db에 캐싱함\n",
    "set_llm_cache(RedisCache( \n",
    "    redis_= redis_db\n",
    "))\n",
    "\n",
    "llm = ChatOpenAI(model=\"gpt-3.5-turbo-0125\")\n",
    "\n",
    "message1 = [HumanMessage(content=\"서울에서 가장 맛있는 길거리 음식은 5개를 소개해 주세요\")]\n",
    "message2 = [HumanMessage(content=\"서울에서 가장 맛있는 길거리 음식은 10개를 소개해 주세요\")]"
   ]
  },
  {
   "cell_type": "code",
   "execution_count": 19,
   "metadata": {},
   "outputs": [
    {
     "name": "stdout",
     "output_type": "stream",
     "text": [
      "1. 홍대 닭강정: 홍대입구역 근처에 위치한 이곳은 닭강정 전문점으로 유명하며, 바삭하고 달콤한 맛이 일품입니다.\n",
      "2. 명동 꼬치구이: 명동 시장에서 파는 다양한 종류의 꼬치구이는 고기의 식감과 풍부한 양념이 일품이며, 현지인들도 자주 찾는 인기 메뉴입니다.\n",
      "3. 이태원 타코: 이태원의 다양한 외국 음식 중에서도 타코는 특히 맛있는 길거리 음식으로 손꼽힙니다. 신선한 재료와 특별한 소스로 맛을 더해줍니다.\n",
      "4. 강남 떡볶이: 강남역 근처의 떡볶이 전문점은 매콤하고 쫄깃한 떡과 맛깔나는 양념으로 손님들을 매료시킵니다.\n",
      "5. 종로 붕어빵: 종로에 위치한 붕어빵 전문점은 바삭한 외피와 달콤한 팥앙금으로 유명하며, 한국 전통 간식을 맛볼 수 있는 곳입니다.\n",
      "CPU times: total: 0 ns\n",
      "Wall time: 73.2 ms\n"
     ]
    }
   ],
   "source": [
    "%%time\n",
    "response1 = llm.invoke(message1)\n",
    "print(response1.content)"
   ]
  },
  {
   "cell_type": "code",
   "execution_count": 20,
   "metadata": {},
   "outputs": [
    {
     "name": "stdout",
     "output_type": "stream",
     "text": [
      "1. 홍대 닭강정: 홍대입구역 근처에서 맛볼 수 있는 닭강정은 바삭하고 담백한 맛으로 인기가 많습니다.\n",
      "2. 명동 닭발: 명동 시장에서 판매되는 닭발은 매콤한 양념과 쫄깃한 식감으로 유명합니다.\n",
      "3. 이태원 토스트: 이태원의 유명한 토스트 가게에서는 다양한 종류의 토스트를 맛볼 수 있습니다.\n",
      "4. 광장시장 붕어빵: 광장시장에서 파는 붕어빵은 바삭한 피부와 달콤한 팥 속으로 유명합니다.\n",
      "5. 신촌 핫도그: 신촌역 근처에서 판매되는 핫도그는 크리스피한 튀김옷과 속이 꽉 찬 맛으로 사랑받고 있습니다.\n",
      "6. 이대 떡볶이: 이대역 근처에 위치한 떡볶이 가게에서는 고소한 양념과 쫄깃한 떡으로 유명합니다.\n",
      "7. 종로 붉은쌀떡: 종로의 전통시장에서 파는 붉은쌀떡은 고소하고 달콤한 맛으로 인기가 있습니다.\n",
      "8. 강남 불고기버거: 강남역 근처에 위치한 불고기버거 전문점에서는 고기의 질감과 양념이 일품입니다.\n",
      "9. 한남동 타코: 한남동의 타코 가게에서는 신선한 재료와 특별한 소스로 만든 타코를 즐길 수 있습니다.\n",
      "10. 신림 김밥: 신림역 근처에 위치한 김밥가게에서는 신선한 재료와 푸짐한 양으로 맛있는 김밥을 즐길 수 있습니다.\n",
      "CPU times: total: 0 ns\n",
      "Wall time: 9 ms\n"
     ]
    }
   ],
   "source": [
    "%%time\n",
    "response2 = llm.invoke(message2)\n",
    "print(response2.content)"
   ]
  },
  {
   "cell_type": "code",
   "execution_count": null,
   "metadata": {},
   "outputs": [],
   "source": []
  }
 ],
 "metadata": {
  "kernelspec": {
   "display_name": "langchain_rag_env",
   "language": "python",
   "name": "python3"
  },
  "language_info": {
   "codemirror_mode": {
    "name": "ipython",
    "version": 3
   },
   "file_extension": ".py",
   "mimetype": "text/x-python",
   "name": "python",
   "nbconvert_exporter": "python",
   "pygments_lexer": "ipython3",
   "version": "3.12.7"
  }
 },
 "nbformat": 4,
 "nbformat_minor": 2
}
