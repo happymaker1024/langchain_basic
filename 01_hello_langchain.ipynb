{
 "cells": [
  {
   "cell_type": "markdown",
   "metadata": {},
   "source": [
    "- m\n",
    "- y\n",
    "- a\n",
    "- b\n",
    "- ctrl + j"
   ]
  },
  {
   "cell_type": "code",
   "execution_count": 2,
   "metadata": {},
   "outputs": [
    {
     "name": "stdout",
     "output_type": "stream",
     "text": [
      "헬로\n"
     ]
    }
   ],
   "source": [
    "print(\"헬로\")"
   ]
  },
  {
   "cell_type": "markdown",
   "metadata": {},
   "source": [
    "# openapi key 확인\n",
    "- pip install -U python-dotenv"
   ]
  },
  {
   "cell_type": "code",
   "execution_count": 3,
   "metadata": {},
   "outputs": [],
   "source": [
    "# !pip install -Uq python-dotenv"
   ]
  },
  {
   "cell_type": "code",
   "execution_count": 1,
   "metadata": {},
   "outputs": [],
   "source": [
    "from dotenv import load_dotenv\n",
    "import os\n",
    "\n",
    "load_dotenv()\n",
    "api_key = os.environ[\"OPENAI_API_KEY\"]\n",
    "# api_key"
   ]
  },
  {
   "cell_type": "code",
   "execution_count": 5,
   "metadata": {},
   "outputs": [],
   "source": [
    "# update하고 설치과정이 보임\n",
    "# %pip install -U langchain-openai\n",
    "# update, 설과정을 보이지 않음\n",
    "# %pip install -Uq langchain-openai"
   ]
  },
  {
   "cell_type": "code",
   "execution_count": 6,
   "metadata": {},
   "outputs": [],
   "source": [
    "from langchain_openai import ChatOpenAI"
   ]
  },
  {
   "cell_type": "code",
   "execution_count": 7,
   "metadata": {},
   "outputs": [
    {
     "data": {
      "text/plain": [
       "ChatOpenAI(client=<openai.resources.chat.completions.Completions object at 0x000001B28580DEE0>, async_client=<openai.resources.chat.completions.AsyncCompletions object at 0x000001B28580F530>, root_client=<openai.OpenAI object at 0x000001B28564D2E0>, root_async_client=<openai.AsyncOpenAI object at 0x000001B28580DF10>, model_name='gpt-4o', model_kwargs={}, openai_api_key=SecretStr('**********'))"
      ]
     },
     "execution_count": 7,
     "metadata": {},
     "output_type": "execute_result"
    }
   ],
   "source": [
    "llm = ChatOpenAI(model=\"gpt-4o\", api_key=api_key)\n",
    "llm"
   ]
  },
  {
   "cell_type": "markdown",
   "metadata": {},
   "source": [
    "- langchain을 ChatOpenAI()객체를 통해서 질문하기"
   ]
  },
  {
   "cell_type": "code",
   "execution_count": 8,
   "metadata": {},
   "outputs": [],
   "source": [
    "# 메시지는 list, list의 요소는 tuple 구조로\n",
    "messages = [\n",
    "    (\"system\", \"당신은 서울의 음시과 문화 전문가 입니다.\"),\n",
    "    (\"human\", \"서울을 대표하는 음식을 맛볼 수 있는 레스토랑 5개를 추천해줘.\")\n",
    "]\n",
    "\n",
    "res = llm.invoke(messages)"
   ]
  },
  {
   "cell_type": "code",
   "execution_count": 9,
   "metadata": {},
   "outputs": [
    {
     "data": {
      "text/plain": [
       "AIMessage(content='서울은 다양한 전통 음식과 현대적인 퓨전 요리를 즐길 수 있는 곳입니다. 여기 서울을 대표하는 음식을 맛볼 수 있는 몇 가지 레스토랑을 추천합니다:\\n\\n1. **명동교자**: 명동에 위치한 이곳은 칼국수로 유명합니다. 깊고 진한 육수와 쫄깃한 면이 조화를 이루며, 함께 제공되는 김치도 별미입니다.\\n\\n2. **광장시장**: 전통적인 한국 시장의 분위기를 느낄 수 있는 곳으로, 빈대떡, 육회, 마약김밥 등 다양한 길거리 음식을 맛볼 수 있습니다.\\n\\n3. **한양집**: 서울에서 불고기를 맛보고 싶다면 한양집을 추천합니다. 양념과 불맛이 조화를 이루는 불고기가 일품이며, 함께 제공되는 반찬들도 훌륭합니다.\\n\\n4. **옥동식**: 서울에서 돼지국밥을 찾고 있다면 옥동식을 방문해 보세요. 맑고 깊은 국물에 부드러운 돼지고기가 잘 어우러져 있습니다.\\n\\n5. **두레국수**: 전통적인 잔치국수를 맛보고 싶다면 이곳을 추천합니다. 담백한 육수와 부드러운 면발이 특징이며, 한국의 잔치 문화를 느낄 수 있습니다.\\n\\n이 외에도 서울에는 다양한 음식 문화가 공존하고 있으니, 여러 곳을 탐방하며 서울의 맛을 느껴보세요.', additional_kwargs={'refusal': None}, response_metadata={'token_usage': {'completion_tokens': 334, 'prompt_tokens': 44, 'total_tokens': 378, 'completion_tokens_details': {'audio_tokens': None, 'reasoning_tokens': 0}, 'prompt_tokens_details': {'audio_tokens': None, 'cached_tokens': 0}}, 'model_name': 'gpt-4o-2024-08-06', 'system_fingerprint': 'fp_a7d06e42a7', 'finish_reason': 'stop', 'logprobs': None}, id='run-263a33ae-e3a2-4643-ad4e-07b4fc76dc14-0', usage_metadata={'input_tokens': 44, 'output_tokens': 334, 'total_tokens': 378, 'input_token_details': {'cache_read': 0}, 'output_token_details': {'reasoning': 0}})"
      ]
     },
     "execution_count": 9,
     "metadata": {},
     "output_type": "execute_result"
    }
   ],
   "source": [
    "res"
   ]
  },
  {
   "cell_type": "code",
   "execution_count": 10,
   "metadata": {},
   "outputs": [
    {
     "data": {
      "text/plain": [
       "'서울은 다양한 전통 음식과 현대적인 퓨전 요리를 즐길 수 있는 곳입니다. 여기 서울을 대표하는 음식을 맛볼 수 있는 몇 가지 레스토랑을 추천합니다:\\n\\n1. **명동교자**: 명동에 위치한 이곳은 칼국수로 유명합니다. 깊고 진한 육수와 쫄깃한 면이 조화를 이루며, 함께 제공되는 김치도 별미입니다.\\n\\n2. **광장시장**: 전통적인 한국 시장의 분위기를 느낄 수 있는 곳으로, 빈대떡, 육회, 마약김밥 등 다양한 길거리 음식을 맛볼 수 있습니다.\\n\\n3. **한양집**: 서울에서 불고기를 맛보고 싶다면 한양집을 추천합니다. 양념과 불맛이 조화를 이루는 불고기가 일품이며, 함께 제공되는 반찬들도 훌륭합니다.\\n\\n4. **옥동식**: 서울에서 돼지국밥을 찾고 있다면 옥동식을 방문해 보세요. 맑고 깊은 국물에 부드러운 돼지고기가 잘 어우러져 있습니다.\\n\\n5. **두레국수**: 전통적인 잔치국수를 맛보고 싶다면 이곳을 추천합니다. 담백한 육수와 부드러운 면발이 특징이며, 한국의 잔치 문화를 느낄 수 있습니다.\\n\\n이 외에도 서울에는 다양한 음식 문화가 공존하고 있으니, 여러 곳을 탐방하며 서울의 맛을 느껴보세요.'"
      ]
     },
     "execution_count": 10,
     "metadata": {},
     "output_type": "execute_result"
    }
   ],
   "source": [
    "res.content"
   ]
  },
  {
   "cell_type": "code",
   "execution_count": 11,
   "metadata": {},
   "outputs": [
    {
     "name": "stdout",
     "output_type": "stream",
     "text": [
      "서울은 다양한 전통 음식과 현대적인 퓨전 요리를 즐길 수 있는 곳입니다. 여기 서울을 대표하는 음식을 맛볼 수 있는 몇 가지 레스토랑을 추천합니다:\n",
      "\n",
      "1. **명동교자**: 명동에 위치한 이곳은 칼국수로 유명합니다. 깊고 진한 육수와 쫄깃한 면이 조화를 이루며, 함께 제공되는 김치도 별미입니다.\n",
      "\n",
      "2. **광장시장**: 전통적인 한국 시장의 분위기를 느낄 수 있는 곳으로, 빈대떡, 육회, 마약김밥 등 다양한 길거리 음식을 맛볼 수 있습니다.\n",
      "\n",
      "3. **한양집**: 서울에서 불고기를 맛보고 싶다면 한양집을 추천합니다. 양념과 불맛이 조화를 이루는 불고기가 일품이며, 함께 제공되는 반찬들도 훌륭합니다.\n",
      "\n",
      "4. **옥동식**: 서울에서 돼지국밥을 찾고 있다면 옥동식을 방문해 보세요. 맑고 깊은 국물에 부드러운 돼지고기가 잘 어우러져 있습니다.\n",
      "\n",
      "5. **두레국수**: 전통적인 잔치국수를 맛보고 싶다면 이곳을 추천합니다. 담백한 육수와 부드러운 면발이 특징이며, 한국의 잔치 문화를 느낄 수 있습니다.\n",
      "\n",
      "이 외에도 서울에는 다양한 음식 문화가 공존하고 있으니, 여러 곳을 탐방하며 서울의 맛을 느껴보세요.\n"
     ]
    }
   ],
   "source": [
    "print(res.content)"
   ]
  },
  {
   "cell_type": "code",
   "execution_count": null,
   "metadata": {},
   "outputs": [],
   "source": []
  }
 ],
 "metadata": {
  "kernelspec": {
   "display_name": "langchain_rag_env",
   "language": "python",
   "name": "python3"
  },
  "language_info": {
   "codemirror_mode": {
    "name": "ipython",
    "version": 3
   },
   "file_extension": ".py",
   "mimetype": "text/x-python",
   "name": "python",
   "nbconvert_exporter": "python",
   "pygments_lexer": "ipython3",
   "version": "3.12.7"
  }
 },
 "nbformat": 4,
 "nbformat_minor": 2
}
